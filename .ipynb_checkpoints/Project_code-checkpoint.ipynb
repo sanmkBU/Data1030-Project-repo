{
 "cells": [
  {
   "cell_type": "code",
   "execution_count": 2,
   "id": "619c6cc0-057b-444b-bb90-5330f899e5c2",
   "metadata": {},
   "outputs": [
    {
     "name": "stdout",
     "output_type": "stream",
     "text": [
      "\u001b[42m[ OK ]\u001b[0m Python version is 3.11.4\n",
      "\n",
      "\u001b[42m[ OK ]\u001b[0m numpy version 1.24.4 is installed.\n",
      "\u001b[42m[ OK ]\u001b[0m matplotlib version 3.7.2 is installed.\n",
      "\u001b[42m[ OK ]\u001b[0m sklearn version 1.3.0 is installed.\n",
      "\u001b[42m[ OK ]\u001b[0m pandas version 2.0.3 is installed.\n",
      "\u001b[42m[ OK ]\u001b[0m xgboost version 1.7.6 is installed.\n",
      "\u001b[42m[ OK ]\u001b[0m shap version 0.42.1 is installed.\n",
      "\u001b[42m[ OK ]\u001b[0m seaborn version 0.12.2 is installed.\n"
     ]
    }
   ],
   "source": [
    "from __future__ import print_function\n",
    "from packaging.version import parse as Version\n",
    "from platform import python_version\n",
    "\n",
    "OK = '\\x1b[42m[ OK ]\\x1b[0m'\n",
    "FAIL = \"\\x1b[41m[FAIL]\\x1b[0m\"\n",
    "\n",
    "try:\n",
    "    import importlib\n",
    "except ImportError:\n",
    "    print(FAIL, \"Python version 3.11 is required,\"\n",
    "                \" but %s is installed.\" % sys.version)\n",
    "\n",
    "def import_version(pkg, min_ver, fail_msg=\"\"):\n",
    "    mod = None\n",
    "    try:\n",
    "        mod = importlib.import_module(pkg)\n",
    "        if pkg in {'PIL'}:\n",
    "            ver = mod.VERSION\n",
    "        else:\n",
    "            ver = mod.__version__\n",
    "        if Version(ver) == Version(min_ver):\n",
    "            print(OK, \"%s version %s is installed.\"\n",
    "                  % (lib, min_ver))\n",
    "        else:\n",
    "            print(FAIL, \"%s version %s is required, but %s installed.\"\n",
    "                  % (lib, min_ver, ver))    \n",
    "    except ImportError:\n",
    "        print(FAIL, '%s not installed. %s' % (pkg, fail_msg))\n",
    "    return mod\n",
    "\n",
    "\n",
    "# first check the python version\n",
    "pyversion = Version(python_version())\n",
    "\n",
    "if pyversion >= Version(\"3.11.4\"):\n",
    "    print(OK, \"Python version is %s\" % pyversion)\n",
    "elif pyversion < Version(\"3.11\"):\n",
    "    print(FAIL, \"Python version 3.11 is required,\"\n",
    "                \" but %s is installed.\" % pyversion)\n",
    "else:\n",
    "    print(FAIL, \"Unknown Python version: %s\" % pyversion)\n",
    "\n",
    "    \n",
    "print()\n",
    "requirements = {'numpy': \"1.24.4\", 'matplotlib': \"3.7.2\",'sklearn': \"1.3.0\", \n",
    "                'pandas': \"2.0.3\",'xgboost': \"1.7.6\", 'shap': \"0.42.1\", 'seaborn': \"0.12.2\"}\n",
    "\n",
    "# now the dependencies\n",
    "for lib, required_version in list(requirements.items()):\n",
    "    import_version(lib, required_version)"
   ]
  },
  {
   "cell_type": "code",
   "execution_count": 56,
   "id": "c5644d05-d3e2-45b2-a609-d8e12f20a8c5",
   "metadata": {},
   "outputs": [
    {
     "name": "stdout",
     "output_type": "stream",
     "text": [
      "<bound method NDFrame.head of      age  sex  cp  trestbps   chol  fbs  restecg  thalach  exang  oldpeak  \\\n",
      "0     28    1   2     130.0  132.0  0.0      2.0    185.0    0.0      0.0   \n",
      "1     29    1   2     120.0  243.0  0.0      0.0    160.0    0.0      0.0   \n",
      "2     29    1   2     140.0    NaN  0.0      0.0    170.0    0.0      0.0   \n",
      "3     30    0   1     170.0  237.0  0.0      1.0    170.0    0.0      0.0   \n",
      "4     31    0   2     100.0  219.0  0.0      1.0    150.0    0.0      0.0   \n",
      "..   ...  ...  ..       ...    ...  ...      ...      ...    ...      ...   \n",
      "289   52    1   4     160.0  331.0  0.0      0.0     94.0    1.0      2.5   \n",
      "290   54    0   3     130.0  294.0  0.0      1.0    100.0    1.0      0.0   \n",
      "291   56    1   4     155.0  342.0  1.0      0.0    150.0    1.0      3.0   \n",
      "292   58    0   2     180.0  393.0  0.0      0.0    110.0    1.0      1.0   \n",
      "293   65    1   4     130.0  275.0  0.0      1.0    115.0    1.0      1.0   \n",
      "\n",
      "     slope  ca  thal  num         \n",
      "0      NaN NaN   NaN           0  \n",
      "1      NaN NaN   NaN           0  \n",
      "2      NaN NaN   NaN           0  \n",
      "3      NaN NaN   6.0           0  \n",
      "4      NaN NaN   NaN           0  \n",
      "..     ...  ..   ...         ...  \n",
      "289    NaN NaN   NaN           1  \n",
      "290    2.0 NaN   NaN           1  \n",
      "291    2.0 NaN   NaN           1  \n",
      "292    2.0 NaN   7.0           1  \n",
      "293    2.0 NaN   NaN           1  \n",
      "\n",
      "[294 rows x 14 columns]>\n",
      "(294, 14)\n",
      "294\n",
      "14\n"
     ]
    }
   ],
   "source": [
    "import pandas as pd\n",
    "import numpy as np\n",
    "df = pd.read_csv('data/Cardiac_data.csv', delimiter=',', header=0, na_values='?')\n",
    "print(df.head)\n",
    "print(df.shape)\n",
    "print(df.shape[0])\n",
    "print(df.shape[1])"
   ]
  },
  {
   "cell_type": "code",
   "execution_count": 57,
   "id": "39c55c84-7efe-4954-99f9-7db419c9a67d",
   "metadata": {},
   "outputs": [],
   "source": [
    "# print(df.iloc[0:10:])\n",
    "#print(df.index)\n",
    "# df_age = df.set_index('age', drop=True)\n",
    "# print(df_age)\n",
    "# print(df_age.loc[65])"
   ]
  },
  {
   "cell_type": "code",
   "execution_count": 59,
   "id": "0d41bf1a-d6b0-4a39-ba20-9dd515f9e2ed",
   "metadata": {},
   "outputs": [
    {
     "data": {
      "text/plain": [
       "age             int64\n",
       "sex             int64\n",
       "cp              int64\n",
       "trestbps      float64\n",
       "chol          float64\n",
       "fbs           float64\n",
       "restecg       float64\n",
       "thalach       float64\n",
       "exang         float64\n",
       "oldpeak       float64\n",
       "slope         float64\n",
       "ca            float64\n",
       "thal          float64\n",
       "num             int64\n",
       "dtype: object"
      ]
     },
     "execution_count": 59,
     "metadata": {},
     "output_type": "execute_result"
    }
   ],
   "source": [
    "df.dtypes"
   ]
  },
  {
   "cell_type": "code",
   "execution_count": null,
   "id": "2aafb7ef-a47e-41dc-9ea0-7d00ba59b2a7",
   "metadata": {},
   "outputs": [],
   "source": [
    "# print(df[df['age']==50])\n",
    "#print(df[df['chol']<200])\n",
    "# print(df[df['chol']>=240])\n",
    "# print(df[(df['chol']>=200)&(df['chol']<=239)])\n",
    "# print(df[(df['chol']>=240)&(df['fbs']==1.0)])\n",
    "# print(bdrline_chol)\n",
    "print(df[(df['chol']>=200)&(df['chol']<=239)&(df['fbs']==1.0)])"
   ]
  },
  {
   "cell_type": "markdown",
   "id": "6203a425-ccb8-4ba8-9a01-770f6d471a00",
   "metadata": {},
   "source": [
    "$c\\ell^n\\mu^m$"
   ]
  },
  {
   "cell_type": "code",
   "execution_count": null,
   "id": "56d3f3df-5dee-4e10-948f-4d8fcc450fce",
   "metadata": {},
   "outputs": [],
   "source": []
  },
  {
   "cell_type": "code",
   "execution_count": 53,
   "id": "b24a3c5a-edd0-4177-9a25-518c5e73495d",
   "metadata": {},
   "outputs": [
    {
     "data": {
      "text/plain": [
       "(8295, 54)"
      ]
     },
     "execution_count": 53,
     "metadata": {},
     "output_type": "execute_result"
    }
   ],
   "source": [
    "df = pd.read_csv('data/Booking Records - jail data.csv', delimiter=',', header=0, na_values='null')\n",
    "# print(df.head)\n",
    "df.shape"
   ]
  },
  {
   "cell_type": "code",
   "execution_count": null,
   "id": "e274fd07-87b4-4234-9c5a-256579f55fb6",
   "metadata": {},
   "outputs": [],
   "source": []
  }
 ],
 "metadata": {
  "kernelspec": {
   "display_name": "Python 3 (ipykernel)",
   "language": "python",
   "name": "python3"
  },
  "language_info": {
   "codemirror_mode": {
    "name": "ipython",
    "version": 3
   },
   "file_extension": ".py",
   "mimetype": "text/x-python",
   "name": "python",
   "nbconvert_exporter": "python",
   "pygments_lexer": "ipython3",
   "version": "3.11.4"
  }
 },
 "nbformat": 4,
 "nbformat_minor": 5
}
